{
 "cells": [
  {
   "cell_type": "markdown",
   "metadata": {},
   "source": [
    "Given a quadratic equation with coefficients a, b and c, find the two solutions (may be real or complex). You should not take the square root of a negative number in your code.\n",
    "\n"
   ]
  },
  {
   "cell_type": "code",
   "execution_count": null,
   "metadata": {},
   "outputs": [],
   "source": [
    "#given a quadratic equation as (ax2 + bx + c)\n",
    "#enter the cofficients of equation as input in a,b and c\n",
    "a=float(input(\"enter the cofficient a:\"))\n",
    "b=float(input(\"enter the cofficient b:\"))\n",
    "c=float(input(\"enter the cofficient c:\"))\n",
    "d=((b*b)-(4*a*c))                                     #this is formula to find discriminant \n",
    "if d==0:                                              #conditional operation to check d is 0 or not\n",
    "    print(\"the roots are real and equal\")\n",
    "    print(\"the roots are\", (-b/2*a))                  #printing roots , formula of roots is feeded when d is 0\n",
    "elif d<0:                                             #conditional operation to check d is negative or not \n",
    "    print(\"the roots are complex\")\n",
    "elif a==0:                                            #conditional operation to check a is zero or not because if so then equation  will become linear \n",
    "    print(\"the equation is linear\")\n",
    "    print(\"the roots are:\",-(c/b))                    #printing roots, formula of roots is feeded when equation is linear\n",
    "else:\n",
    "    print(\"the roots are real and distinct\")\n",
    "    print(\"the roots are :\",(-b+d)/(2*a), (-b-d)/(2*a)) #printing the roots , formula of roots is feeded when d is positive"
   ]
  }
 ],
 "metadata": {
  "kernelspec": {
   "display_name": "Python 3",
   "language": "python",
   "name": "python3"
  },
  "language_info": {
   "name": "python",
   "version": "3.11.4"
  },
  "orig_nbformat": 4
 },
 "nbformat": 4,
 "nbformat_minor": 2
}
