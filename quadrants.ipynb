{
 "cells": [
  {
   "cell_type": "markdown",
   "metadata": {},
   "source": [
    "given a point in 2D space, find the quadrant in which it lies."
   ]
  },
  {
   "cell_type": "code",
   "execution_count": null,
   "metadata": {},
   "outputs": [],
   "source": [
    "a=float(input(\"enter the abcissa:\"))                            #input from user about the point \n",
    "b=float(input(\"enter the ordinate\"))                            #input from user about the point \n",
    "if a==0 and  b==0:                                              #conditional operation to check wheather lies on origin or not\n",
    "    print(\"the point is on origin\")                             #if lies on origin, then print that it is on origin  \n",
    "elif a>0 and b>0:                                               #conditional operation to check wheather that satisfy the condition of being in the 1st quadrant\n",
    "    print(\"the point is in first quadrant\")                     #if yes then print the same\n",
    "elif a>0 and b<0:                                               #conditional operation to check wheather that satisfy the condition of being in the 2nd quadrant\n",
    "    print(\"the point is in second quadrant\")                    #if satisfies then print the same\n",
    "elif a<0 and b<0:                                               #conditional operation to check wheather that satisfy the condition of being in the 3rd quadrant\n",
    "    print(\"the point is in third quadrant\")                     #if satisfies then print the same\n",
    "elif a==0:                                                      #conditional operation to check wheather it lies on x axis or not\n",
    "    print(\"point is on x axis\")                                 #if satisfies then print the same\n",
    "elif b==0:                                                      #conditional operation to check wheather it lies on y axis or not\n",
    "    print(\"point is on y axis\")                                 #if satisfies then print the same\n",
    "else:                                                           #if none of the above conditions satisfied then if emplies that point lies on 4th quadrant\n",
    "    print(\"the the number is in forth quadrant\")                #printing the same "
   ]
  }
 ],
 "metadata": {
  "kernelspec": {
   "display_name": "Python 3",
   "language": "python",
   "name": "python3"
  },
  "language_info": {
   "name": "python",
   "version": "3.11.4"
  },
  "orig_nbformat": 4
 },
 "nbformat": 4,
 "nbformat_minor": 2
}
