{
 "cells": [
  {
   "cell_type": "markdown",
   "metadata": {},
   "source": [
    "given two points in 2D space, find the slope and the y intercept of the line joining them. consider all the cases."
   ]
  },
  {
   "cell_type": "code",
   "execution_count": null,
   "metadata": {},
   "outputs": [],
   "source": [
    "#first take input from the user of a,b,c,d    \n",
    "a=float(input(\"enter the abcissa of first point:\"))\n",
    "b=float(input(\"enter the ordinate of first point:\"))                \n",
    "c=float(input(\"enter the abcissa of second point:\"))                \n",
    "d=float(input(\"enter the ordinate of second point:\"))               \n",
    "e=(d-b)/(c-a)                                                       #checking the slope\n",
    "if c-a==0:                                                          #checking the denominator if 0 or not?\n",
    "    print(\"the slope is not defined\")                               \n",
    "elif d-b==0:                                                        #checking numerator if 0 or not\n",
    "    print(\"the slope is zero\")                                      \n",
    "else:                                                               #if none of these holds true then we got the slope which is defined\n",
    "    print(\"the slope of line is:\", e)\n",
    "f=b-e*a                                                             #formula for intercept\n",
    "print(\"the y intercept of the line is:\", f)"
   ]
  }
 ],
 "metadata": {
  "kernelspec": {
   "display_name": "Python 3",
   "language": "python",
   "name": "python3"
  },
  "language_info": {
   "name": "python",
   "version": "3.11.4"
  },
  "orig_nbformat": 4
 },
 "nbformat": 4,
 "nbformat_minor": 2
}
