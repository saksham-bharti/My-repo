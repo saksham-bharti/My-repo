{
 "cells": [
  {
   "cell_type": "markdown",
   "metadata": {},
   "source": [
    "Given a temperature in Fahrenheit, convert it to Celsius. If the temperature is below 10 degree celcius output cold, between 10 and 25 output pleasant, between 25 and 35 output warm, and above 35 output hot.\n"
   ]
  },
  {
   "cell_type": "code",
   "execution_count": null,
   "metadata": {},
   "outputs": [],
   "source": [
    "a=float(input(\"enter the temperature in fahrenheit:\"))             #input from user of temperature\n",
    "b=(a-32)*(5/9)                                                     #formula of converting fahrenheit into celcius\n",
    "print(\"the temperature in celcius is:\", b)                         #printing the temperature in celcius\n",
    "if b<=10:                                                          #conditional operation to check the temp. is  less then 10 or not\n",
    "    print(\"the weather is cold\")\n",
    "elif 10<b<=25:                                                     #conditional operation to check the temp. is between 10 and 25 or not\n",
    "    print(\"the weather is pleasant\")\n",
    "elif 25<b<=35:                                                     #conditional operation to check the temp. is between 25 and 35 or not\n",
    "    print(\"the weather is warm\")\n",
    "else:                                                              #else if temperature is not in this range then it is surely above 40 i.e. hot\n",
    "    print(\"the weather is hot\")\n"
   ]
  }
 ],
 "metadata": {
  "kernelspec": {
   "display_name": "Python 3",
   "language": "python",
   "name": "python3"
  },
  "language_info": {
   "name": "python",
   "version": "3.11.4"
  },
  "orig_nbformat": 4
 },
 "nbformat": 4,
 "nbformat_minor": 2
}
