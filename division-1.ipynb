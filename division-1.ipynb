{
 "cells": [
  {
   "cell_type": "markdown",
   "metadata": {},
   "source": [
    "given two numbers a and b, find a/b (b could be zero)"
   ]
  },
  {
   "cell_type": "code",
   "execution_count": null,
   "metadata": {},
   "outputs": [],
   "source": [
    "a=int(input(\"value of divident is:\"))               #input from user about the divident\n",
    "b=int(input(\"value of divisor is:\"))                #input from user about the divisor\n",
    "if b!=0:                                            #conditional operation to identify wheather divisor is 0 or not?\n",
    "    print(\"a/b=\", a/b)                              #if b is not zero then answer is defined , that we print\n",
    "else:                                               #if b is zero then division is not possible\n",
    "    print(\"divion is not defined\")                  #printing that that divion is not possible."
   ]
  }
 ],
 "metadata": {
  "kernelspec": {
   "display_name": "Python 3",
   "language": "python",
   "name": "python3"
  },
  "language_info": {
   "name": "python",
   "version": "3.11.4"
  },
  "orig_nbformat": 4
 },
 "nbformat": 4,
 "nbformat_minor": 2
}
