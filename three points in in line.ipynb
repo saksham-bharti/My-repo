{
 "cells": [
  {
   "cell_type": "markdown",
   "metadata": {},
   "source": [
    "Given three points, find out whether they lie on the same straight line or not."
   ]
  },
  {
   "cell_type": "code",
   "execution_count": null,
   "metadata": {},
   "outputs": [],
   "source": [
    "#input from user of all the points\n",
    "x1=float(input(\"enter the abcissa of first point:\"))\n",
    "y1=float(input(\"enter the ordinate of first point:\"))\n",
    "x2=float(input(\"enter the abcissa of second point:\"))\n",
    "y2=float(input(\"enter the ordinate of second point:\"))\n",
    "x3=float(input(\"enter the abcissa of third point:\"))\n",
    "y3=float(input(\"enter the ordinate of third point:\"))\n",
    "area= 0.5*(x1*(y2-y3)+x2*(y3-y1)+x3*(y1-y2))               # formula of area when three points are given\n",
    "if area==0:                                                # conditional operation to check area is zero or not\n",
    "    print(\"these points are in same line\")\n",
    "else:                                                      \n",
    "    print(\"these points do not occur in same line\")"
   ]
  }
 ],
 "metadata": {
  "kernelspec": {
   "display_name": "Python 3",
   "language": "python",
   "name": "python3"
  },
  "language_info": {
   "name": "python",
   "version": "3.11.4"
  },
  "orig_nbformat": 4
 },
 "nbformat": 4,
 "nbformat_minor": 2
}
